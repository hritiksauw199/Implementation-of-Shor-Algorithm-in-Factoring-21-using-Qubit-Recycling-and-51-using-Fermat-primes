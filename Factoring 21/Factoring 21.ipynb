{
 "cells": [
  {
   "cell_type": "code",
   "execution_count": 1,
   "id": "683a1143",
   "metadata": {},
   "outputs": [],
   "source": [
    "import matplotlib.pyplot as plt\n",
    "import numpy as np\n",
    "from qiskit import IBMQ, QuantumCircuit, Aer, transpile, assemble\n",
    "from qiskit.visualization import plot_histogram\n",
    "from math import gcd\n",
    "from numpy.random import randint\n",
    "import pandas as pd\n",
    "from qiskit.providers.ibmq import least_busy\n",
    "from fractions import Fraction"
   ]
  },
  {
   "cell_type": "code",
   "execution_count": 2,
   "id": "a7519765",
   "metadata": {},
   "outputs": [],
   "source": [
    "def qft_inv(n):\n",
    "    qc = QuantumCircuit(n)\n",
    "    for qubit in range(n//2):\n",
    "        qc.swap(qubit, n-qubit-1)\n",
    "    for j in range(n):\n",
    "        for m in range(j):\n",
    "            qc.cp(-np.pi/float(2**(j-m)), m, j)\n",
    "        qc.h(j)\n",
    "    qc.name = \"QFT_INV\"\n",
    "    return qc"
   ]
  },
  {
   "cell_type": "code",
   "execution_count": 3,
   "id": "e21126d5",
   "metadata": {},
   "outputs": [
    {
     "data": {
      "text/html": [
       "<pre style=\"word-wrap: normal;white-space: pre;background: #fff0;line-height: 1.1;font-family: &quot;Courier New&quot;,Courier,monospace\">     ┌───┐                                                      ░ ┌──────────┐»\n",
       "q_0: ┤ H ├───────────────────────────────X─────────────■────────░─┤0         ├»\n",
       "     ├───┤                               │             │        ░ │          │»\n",
       "q_1: ┤ H ├───────■─────────■─────────────┼─────────────┼────────░─┤1 QFT_INV ├»\n",
       "     ├───┤       │         │             │             │        ░ │          │»\n",
       "q_2: ┤ H ├──■────┼─────────┼─────────────┼─────────────┼────────░─┤2         ├»\n",
       "     └───┘  │    │  ┌───┐  │  ┌───┐      │      ┌───┐  │  ┌───┐ ░ └──────────┘»\n",
       "q_3: ───────┼────┼──┤ X ├──■──┤ X ├──────■──────┤ X ├──■──┤ X ├─░─────────────»\n",
       "          ┌─┴─┐┌─┴─┐└─┬─┘┌─┴─┐└─┬─┘┌───┐ │ ┌───┐└─┬─┘┌─┴─┐└─┬─┘ ░             »\n",
       "q_4: ─────┤ X ├┤ X ├──■──┤ X ├──■──┤ X ├─X─┤ X ├──■──┤ X ├──■───░─────────────»\n",
       "          └───┘└───┘     └───┘     └───┘   └───┘     └───┘      ░             »\n",
       "c: 3/═════════════════════════════════════════════════════════════════════════»\n",
       "                                                                              »\n",
       "«     ┌─┐      \n",
       "«q_0: ┤M├──────\n",
       "«     └╥┘┌─┐   \n",
       "«q_1: ─╫─┤M├───\n",
       "«      ║ └╥┘┌─┐\n",
       "«q_2: ─╫──╫─┤M├\n",
       "«      ║  ║ └╥┘\n",
       "«q_3: ─╫──╫──╫─\n",
       "«      ║  ║  ║ \n",
       "«q_4: ─╫──╫──╫─\n",
       "«      ║  ║  ║ \n",
       "«c: 3/═╩══╩══╩═\n",
       "«      0  1  2 </pre>"
      ],
      "text/plain": [
       "     ┌───┐                                                      ░ ┌──────────┐»\n",
       "q_0: ┤ H ├───────────────────────────────X─────────────■────────░─┤0         ├»\n",
       "     ├───┤                               │             │        ░ │          │»\n",
       "q_1: ┤ H ├───────■─────────■─────────────┼─────────────┼────────░─┤1 QFT_INV ├»\n",
       "     ├───┤       │         │             │             │        ░ │          │»\n",
       "q_2: ┤ H ├──■────┼─────────┼─────────────┼─────────────┼────────░─┤2         ├»\n",
       "     └───┘  │    │  ┌───┐  │  ┌───┐      │      ┌───┐  │  ┌───┐ ░ └──────────┘»\n",
       "q_3: ───────┼────┼──┤ X ├──■──┤ X ├──────■──────┤ X ├──■──┤ X ├─░─────────────»\n",
       "          ┌─┴─┐┌─┴─┐└─┬─┘┌─┴─┐└─┬─┘┌───┐ │ ┌───┐└─┬─┘┌─┴─┐└─┬─┘ ░             »\n",
       "q_4: ─────┤ X ├┤ X ├──■──┤ X ├──■──┤ X ├─X─┤ X ├──■──┤ X ├──■───░─────────────»\n",
       "          └───┘└───┘     └───┘     └───┘   └───┘     └───┘      ░             »\n",
       "c: 3/═════════════════════════════════════════════════════════════════════════»\n",
       "                                                                              »\n",
       "«     ┌─┐      \n",
       "«q_0: ┤M├──────\n",
       "«     └╥┘┌─┐   \n",
       "«q_1: ─╫─┤M├───\n",
       "«      ║ └╥┘┌─┐\n",
       "«q_2: ─╫──╫─┤M├\n",
       "«      ║  ║ └╥┘\n",
       "«q_3: ─╫──╫──╫─\n",
       "«      ║  ║  ║ \n",
       "«q_4: ─╫──╫──╫─\n",
       "«      ║  ║  ║ \n",
       "«c: 3/═╩══╩══╩═\n",
       "«      0  1  2 "
      ]
     },
     "execution_count": 3,
     "metadata": {},
     "output_type": "execute_result"
    }
   ],
   "source": [
    "n_count = 3\n",
    "n = 5\n",
    "qc = QuantumCircuit(n_count+2, n_count)\n",
    "for q in range(n_count):\n",
    "    qc.h(q)\n",
    "\n",
    "qc.cx(2,4)\n",
    "\n",
    "qc.cx(1,4)\n",
    "qc.cx(4,3)\n",
    "qc.ccx(1,3,4)\n",
    "qc.cx(4,3)\n",
    "\n",
    "qc.x(4)\n",
    "qc.cswap(3,0,4)\n",
    "qc.x(4)\n",
    "qc.cx(4,3)\n",
    "qc.ccx(0,3,4)\n",
    "qc.cx(4,3)\n",
    "qc.barrier()\n",
    "qc.append(qft_inv(n_count), range(n_count))\n",
    "qc.measure(range(n_count), range(n_count))\n",
    "qc.draw()"
   ]
  },
  {
   "cell_type": "code",
   "execution_count": 4,
   "id": "4ff63b5e",
   "metadata": {
    "scrolled": true
   },
   "outputs": [
    {
     "data": {
      "image/png": "[encoded data removed]",
      "text/plain": [
       "<Figure size 504x360 with 1 Axes>"
      ]
     },
     "execution_count": 4,
     "metadata": {},
     "output_type": "execute_result"
    }
   ],
   "source": [
    "aer_sim = Aer.get_backend('aer_simulator')\n",
    "t_qc = transpile(qc, aer_sim)\n",
    "qobj = assemble(t_qc)\n",
    "results = aer_sim.run(qobj).result()\n",
    "counts = results.get_counts()\n",
    "plot_histogram(counts)"
   ]
  },
  {
   "cell_type": "code",
   "execution_count": 5,
   "id": "b6fb5b7f",
   "metadata": {
    "scrolled": true
   },
   "outputs": [
    {
     "name": "stdout",
     "output_type": "stream",
     "text": [
      "least busy backend:  ibmq_manila\n"
     ]
    },
    {
     "name": "stderr",
     "output_type": "stream",
     "text": [
      "<ipython-input-5-5f8f17d7194d>:13: DeprecationWarning: Passing a Qobj to Backend.run is deprecated and will be removed in a future release. Please pass in circuits or pulse schedules instead.\n",
      "  job = backend.run(qobj)\n"
     ]
    },
    {
     "name": "stdout",
     "output_type": "stream",
     "text": [
      "Job Status: job has successfully run\n"
     ]
    }
   ],
   "source": [
    "# Load our saved IBMQ accounts and get the least busy backend device with less than or equal to 5 qubits\n",
    "IBMQ.load_account()\n",
    "provider = IBMQ.get_provider(hub='ibm-q')\n",
    "backend = least_busy(provider.backends(filters=lambda x: x.configuration().n_qubits >= n and \n",
    "                                   not x.configuration().simulator and x.status().operational==True))\n",
    "print(\"least busy backend: \", backend)\n",
    "\n",
    "# Execute and monitor the job\n",
    "from qiskit.tools.monitor import job_monitor\n",
    "shots = 1024\n",
    "transpiled_simon_circuit = transpile(qc, backend, optimization_level=3)\n",
    "qobj = assemble(transpiled_simon_circuit, shots=shots)\n",
    "job = backend.run(qobj)\n",
    "job_monitor(job, interval=2)"
   ]
  },
  {
   "cell_type": "code",
   "execution_count": 6,
   "id": "7e020fb0",
   "metadata": {},
   "outputs": [
    {
     "data": {
      "image/png": "[encoded data removed]",
      "text/plain": [
       "<Figure size 504x360 with 1 Axes>"
      ]
     },
     "execution_count": 6,
     "metadata": {},
     "output_type": "execute_result"
    }
   ],
   "source": [
    "# Get results and plot counts\n",
    "device_counts = job.result().get_counts()\n",
    "plot_histogram(device_counts)"
   ]
  },
  {
   "cell_type": "code",
   "execution_count": 7,
   "id": "00e6fef1",
   "metadata": {},
   "outputs": [
    {
     "name": "stdout",
     "output_type": "stream",
     "text": [
      "       Register Output       Phase\n",
      "0  101(bin) =   5(dec)  5/8 = 0.62\n",
      "1  111(bin) =   7(dec)  7/8 = 0.88\n",
      "2  000(bin) =   0(dec)  0/8 = 0.00\n",
      "3  011(bin) =   3(dec)  3/8 = 0.38\n",
      "4  001(bin) =   1(dec)  1/8 = 0.12\n",
      "5  110(bin) =   6(dec)  6/8 = 0.75\n",
      "6  010(bin) =   2(dec)  2/8 = 0.25\n",
      "7  100(bin) =   4(dec)  4/8 = 0.50\n"
     ]
    }
   ],
   "source": [
    "rows, measured_phases = [], []\n",
    "for output in counts:\n",
    "    decimal = int(output, 2)  # Convert (base 2) string to decimal\n",
    "    phase = decimal/(2**n_count)  # Find corresponding eigenvalue\n",
    "    measured_phases.append(phase)\n",
    "    # Add these values to the rows in our table:\n",
    "    rows.append([f\"{output}(bin) = {decimal:>3}(dec)\", \n",
    "                 f\"{decimal}/{2**n_count} = {phase:.2f}\"])\n",
    "# Print the rows in a table\n",
    "headers=[\"Register Output\", \"Phase\"]\n",
    "df = pd.DataFrame(rows, columns=headers)\n",
    "print(df)"
   ]
  },
  {
   "cell_type": "code",
   "execution_count": 8,
   "id": "88c95dc7",
   "metadata": {},
   "outputs": [
    {
     "name": "stdout",
     "output_type": "stream",
     "text": [
      "   Phase Fraction  Guess for r\n",
      "0  0.625      5/8            8\n",
      "1  0.875      7/8            8\n",
      "2  0.000      0/1            1\n",
      "3  0.375      3/8            8\n",
      "4  0.125      1/8            8\n",
      "5  0.750      3/4            4\n",
      "6  0.250      1/4            4\n",
      "7  0.500      1/2            2\n"
     ]
    }
   ],
   "source": [
    "rows = []\n",
    "for phase in measured_phases:\n",
    "    frac = Fraction(phase).limit_denominator(15)\n",
    "    rows.append([phase, f\"{frac.numerator}/{frac.denominator}\", frac.denominator])\n",
    "# Print as a table\n",
    "headers=[\"Phase\", \"Fraction\", \"Guess for r\"]\n",
    "df = pd.DataFrame(rows, columns=headers)\n",
    "print(df)"
   ]
  },
  {
   "cell_type": "code",
   "execution_count": 9,
   "id": "c80cef30",
   "metadata": {},
   "outputs": [
    {
     "name": "stdout",
     "output_type": "stream",
     "text": [
      "       Register Output       Phase\n",
      "0  000(bin) =   0(dec)  0/8 = 0.00\n",
      "1  001(bin) =   1(dec)  1/8 = 0.12\n",
      "2  010(bin) =   2(dec)  2/8 = 0.25\n",
      "3  011(bin) =   3(dec)  3/8 = 0.38\n",
      "4  100(bin) =   4(dec)  4/8 = 0.50\n",
      "5  101(bin) =   5(dec)  5/8 = 0.62\n",
      "6  110(bin) =   6(dec)  6/8 = 0.75\n",
      "7  111(bin) =   7(dec)  7/8 = 0.88\n"
     ]
    }
   ],
   "source": [
    "rows, measured_phases = [], []\n",
    "for output in device_counts:\n",
    "    decimal = int(output, 2)  # Convert (base 2) string to decimal\n",
    "    phase = decimal/(2**n_count)  # Find corresponding eigenvalue\n",
    "    measured_phases.append(phase)\n",
    "    # Add these values to the rows in our table:\n",
    "    rows.append([f\"{output}(bin) = {decimal:>3}(dec)\", \n",
    "                 f\"{decimal}/{2**n_count} = {phase:.2f}\"])\n",
    "# Print the rows in a table\n",
    "headers=[\"Register Output\", \"Phase\"]\n",
    "df = pd.DataFrame(rows, columns=headers)\n",
    "print(df)"
   ]
  },
  {
   "cell_type": "code",
   "execution_count": 10,
   "id": "c20a64bb",
   "metadata": {},
   "outputs": [
    {
     "name": "stdout",
     "output_type": "stream",
     "text": [
      "   Phase Fraction  Guess for r\n",
      "0  0.000      0/1            1\n",
      "1  0.125      1/8            8\n",
      "2  0.250      1/4            4\n",
      "3  0.375      3/8            8\n",
      "4  0.500      1/2            2\n",
      "5  0.625      5/8            8\n",
      "6  0.750      3/4            4\n",
      "7  0.875      7/8            8\n"
     ]
    }
   ],
   "source": [
    "rows = []\n",
    "for phase in measured_phases:\n",
    "    frac = Fraction(phase).limit_denominator(15)\n",
    "    rows.append([phase, f\"{frac.numerator}/{frac.denominator}\", frac.denominator])\n",
    "# Print as a table\n",
    "headers=[\"Phase\", \"Fraction\", \"Guess for r\"]\n",
    "df = pd.DataFrame(rows, columns=headers)\n",
    "print(df)"
   ]
  },
  {
   "cell_type": "code",
   "execution_count": null,
   "id": "2aa544fc",
   "metadata": {},
   "outputs": [],
   "source": []
  }
 ],
 "metadata": {
  "kernelspec": {
   "display_name": "Python 3",
   "language": "python",
   "name": "python3"
  },
  "language_info": {
   "codemirror_mode": {
    "name": "ipython",
    "version": 3
   },
   "file_extension": ".py",
   "mimetype": "text/x-python",
   "name": "python",
   "nbconvert_exporter": "python",
   "pygments_lexer": "ipython3",
   "version": "3.8.8"
  }
 },
 "nbformat": 4,
 "nbformat_minor": 5
}
