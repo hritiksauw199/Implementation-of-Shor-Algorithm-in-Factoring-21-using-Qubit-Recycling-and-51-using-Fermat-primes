{
 "cells": [
  {
   "cell_type": "code",
   "execution_count": 1,
   "id": "606371eb",
   "metadata": {},
   "outputs": [],
   "source": [
    "import matplotlib.pyplot as plt\n",
    "import numpy as np\n",
    "from qiskit import IBMQ, QuantumCircuit, Aer, transpile, assemble\n",
    "from qiskit.visualization import plot_histogram\n",
    "from math import gcd\n",
    "from numpy.random import randint\n",
    "import pandas as pd\n",
    "from qiskit.providers.ibmq import least_busy\n",
    "from fractions import Fraction"
   ]
  },
  {
   "cell_type": "code",
   "execution_count": 2,
   "id": "95bbcd26",
   "metadata": {},
   "outputs": [],
   "source": [
    "def qft_inv(n):\n",
    "    qc = QuantumCircuit(n)\n",
    "    for qubit in range(n//2):\n",
    "        qc.swap(qubit, n-qubit-1)\n",
    "    for j in range(n):\n",
    "        for m in range(j):\n",
    "            qc.cp(-np.pi/float(2**(j-m)), m, j)\n",
    "        qc.h(j)\n",
    "    qc.name = \"QFT_INV\"\n",
    "    return qc"
   ]
  },
  {
   "cell_type": "code",
   "execution_count": 3,
   "id": "f8a7fe5c",
   "metadata": {},
   "outputs": [
    {
     "data": {
      "text/html": [
       "<pre style=\"word-wrap: normal;white-space: pre;background: #fff0;line-height: 1.1;font-family: &quot;Courier New&quot;,Courier,monospace\">     ┌───┐                    ┌──────────┐┌─┐         \n",
       "q_0: ┤ H ├──■─────────────────┤0         ├┤M├─────────\n",
       "     ├───┤  │                 │          │└╥┘┌─┐      \n",
       "q_1: ┤ H ├──┼────■────────────┤1         ├─╫─┤M├──────\n",
       "     ├───┤  │    │            │  QFT_INV │ ║ └╥┘┌─┐   \n",
       "q_2: ┤ H ├──┼────┼────■───────┤2         ├─╫──╫─┤M├───\n",
       "     ├───┤  │    │    │       │          │ ║  ║ └╥┘┌─┐\n",
       "q_3: ┤ H ├──┼────┼────┼────■──┤3         ├─╫──╫──╫─┤M├\n",
       "     └───┘┌─┴─┐  │    │    │  └──────────┘ ║  ║  ║ └╥┘\n",
       "q_4: ─────┤ X ├──┼────┼────┼───────────────╫──╫──╫──╫─\n",
       "          └───┘┌─┴─┐  │    │               ║  ║  ║  ║ \n",
       "q_5: ──────────┤ X ├──┼────┼───────────────╫──╫──╫──╫─\n",
       "               └───┘┌─┴─┐  │               ║  ║  ║  ║ \n",
       "q_6: ───────────────┤ X ├──┼───────────────╫──╫──╫──╫─\n",
       "                    └───┘┌─┴─┐             ║  ║  ║  ║ \n",
       "q_7: ────────────────────┤ X ├─────────────╫──╫──╫──╫─\n",
       "                         └───┘             ║  ║  ║  ║ \n",
       "c: 4/══════════════════════════════════════╩══╩══╩══╩═\n",
       "                                           0  1  2  3 </pre>"
      ],
      "text/plain": [
       "     ┌───┐                    ┌──────────┐┌─┐         \n",
       "q_0: ┤ H ├──■─────────────────┤0         ├┤M├─────────\n",
       "     ├───┤  │                 │          │└╥┘┌─┐      \n",
       "q_1: ┤ H ├──┼────■────────────┤1         ├─╫─┤M├──────\n",
       "     ├───┤  │    │            │  QFT_INV │ ║ └╥┘┌─┐   \n",
       "q_2: ┤ H ├──┼────┼────■───────┤2         ├─╫──╫─┤M├───\n",
       "     ├───┤  │    │    │       │          │ ║  ║ └╥┘┌─┐\n",
       "q_3: ┤ H ├──┼────┼────┼────■──┤3         ├─╫──╫──╫─┤M├\n",
       "     └───┘┌─┴─┐  │    │    │  └──────────┘ ║  ║  ║ └╥┘\n",
       "q_4: ─────┤ X ├──┼────┼────┼───────────────╫──╫──╫──╫─\n",
       "          └───┘┌─┴─┐  │    │               ║  ║  ║  ║ \n",
       "q_5: ──────────┤ X ├──┼────┼───────────────╫──╫──╫──╫─\n",
       "               └───┘┌─┴─┐  │               ║  ║  ║  ║ \n",
       "q_6: ───────────────┤ X ├──┼───────────────╫──╫──╫──╫─\n",
       "                    └───┘┌─┴─┐             ║  ║  ║  ║ \n",
       "q_7: ────────────────────┤ X ├─────────────╫──╫──╫──╫─\n",
       "                         └───┘             ║  ║  ║  ║ \n",
       "c: 4/══════════════════════════════════════╩══╩══╩══╩═\n",
       "                                           0  1  2  3 "
      ]
     },
     "execution_count": 3,
     "metadata": {},
     "output_type": "execute_result"
    }
   ],
   "source": [
    "n_count = 4\n",
    "n = 5\n",
    "qc = QuantumCircuit(n_count+4, n_count)\n",
    "for q in range(n_count):\n",
    "    qc.h(q)\n",
    "\n",
    "qc.cx(0,4)\n",
    "qc.cx(1,5)\n",
    "qc.cx(2,6)\n",
    "qc.cx(3,7)\n",
    "qc.append(qft_inv(n_count), range(n_count))\n",
    "qc.measure(range(n_count), range(n_count))\n",
    "qc.draw()\n"
   ]
  },
  {
   "cell_type": "code",
   "execution_count": 4,
   "id": "ba343890",
   "metadata": {
    "scrolled": false
   },
   "outputs": [
    {
     "data": {
      "image/png": "[encoded data removed]",
      "text/plain": [
       "<Figure size 504x360 with 1 Axes>"
      ]
     },
     "execution_count": 4,
     "metadata": {},
     "output_type": "execute_result"
    }
   ],
   "source": [
    "aer_sim = Aer.get_backend('aer_simulator')\n",
    "t_qc = transpile(qc, aer_sim)\n",
    "qobj = assemble(t_qc)\n",
    "results = aer_sim.run(qobj).result()\n",
    "counts = results.get_counts()\n",
    "plot_histogram(counts)"
   ]
  },
  {
   "cell_type": "code",
   "execution_count": 5,
   "id": "9bd5502d",
   "metadata": {},
   "outputs": [
    {
     "name": "stdout",
     "output_type": "stream",
     "text": [
      "         Register Output         Phase\n",
      "0   0110(bin) =   6(dec)   6/16 = 0.38\n",
      "1   0000(bin) =   0(dec)   0/16 = 0.00\n",
      "2   1000(bin) =   8(dec)   8/16 = 0.50\n",
      "3   1100(bin) =  12(dec)  12/16 = 0.75\n",
      "4   1011(bin) =  11(dec)  11/16 = 0.69\n",
      "5   1101(bin) =  13(dec)  13/16 = 0.81\n",
      "6   0001(bin) =   1(dec)   1/16 = 0.06\n",
      "7   1001(bin) =   9(dec)   9/16 = 0.56\n",
      "8   0010(bin) =   2(dec)   2/16 = 0.12\n",
      "9   1110(bin) =  14(dec)  14/16 = 0.88\n",
      "10  1010(bin) =  10(dec)  10/16 = 0.62\n",
      "11  0101(bin) =   5(dec)   5/16 = 0.31\n",
      "12  0111(bin) =   7(dec)   7/16 = 0.44\n",
      "13  0011(bin) =   3(dec)   3/16 = 0.19\n",
      "14  0100(bin) =   4(dec)   4/16 = 0.25\n",
      "15  1111(bin) =  15(dec)  15/16 = 0.94\n"
     ]
    }
   ],
   "source": [
    "rows, measured_phases = [], []\n",
    "for output in counts:\n",
    "    decimal = int(output, 2)  # Convert (base 2) string to decimal\n",
    "    phase = decimal/(2**n_count)  # Find corresponding eigenvalue\n",
    "    measured_phases.append(phase)\n",
    "    # Add these values to the rows in our table:\n",
    "    rows.append([f\"{output}(bin) = {decimal:>3}(dec)\", \n",
    "                 f\"{decimal}/{2**n_count} = {phase:.2f}\"])\n",
    "# Print the rows in a table\n",
    "headers=[\"Register Output\", \"Phase\"]\n",
    "df = pd.DataFrame(rows, columns=headers)\n",
    "print(df)"
   ]
  },
  {
   "cell_type": "code",
   "execution_count": 6,
   "id": "479eb6d2",
   "metadata": {},
   "outputs": [
    {
     "name": "stdout",
     "output_type": "stream",
     "text": [
      "     Phase Fraction  Guess for r\n",
      "0   0.3750      3/8            8\n",
      "1   0.0000      0/1            1\n",
      "2   0.5000      1/2            2\n",
      "3   0.7500      3/4            4\n",
      "4   0.6875     9/13           13\n",
      "5   0.8125     9/11           11\n",
      "6   0.0625     1/15           15\n",
      "7   0.5625      5/9            9\n",
      "8   0.1250      1/8            8\n",
      "9   0.8750      7/8            8\n",
      "10  0.6250      5/8            8\n",
      "11  0.3125     4/13           13\n",
      "12  0.4375      4/9            9\n",
      "13  0.1875     2/11           11\n",
      "14  0.2500      1/4            4\n",
      "15  0.9375    14/15           15\n"
     ]
    }
   ],
   "source": [
    "rows = []\n",
    "for phase in measured_phases:\n",
    "    frac = Fraction(phase).limit_denominator(15)\n",
    "    rows.append([phase, f\"{frac.numerator}/{frac.denominator}\", frac.denominator])\n",
    "# Print as a table\n",
    "headers=[\"Phase\", \"Fraction\", \"Guess for r\"]\n",
    "df = pd.DataFrame(rows, columns=headers)\n",
    "print(df)"
   ]
  },
  {
   "cell_type": "code",
   "execution_count": 7,
   "id": "cd44aaa2",
   "metadata": {},
   "outputs": [
    {
     "data": {
      "text/plain": [
       "3"
      ]
     },
     "execution_count": 7,
     "metadata": {},
     "output_type": "execute_result"
    }
   ],
   "source": [
    "from math import gcd # greatest common divisor\n",
    "gcd(255,21)"
   ]
  },
  {
   "cell_type": "code",
   "execution_count": null,
   "id": "a604ce1f",
   "metadata": {},
   "outputs": [],
   "source": []
  }
 ],
 "metadata": {
  "kernelspec": {
   "display_name": "Python 3",
   "language": "python",
   "name": "python3"
  },
  "language_info": {
   "codemirror_mode": {
    "name": "ipython",
    "version": 3
   },
   "file_extension": ".py",
   "mimetype": "text/x-python",
   "name": "python",
   "nbconvert_exporter": "python",
   "pygments_lexer": "ipython3",
   "version": "3.8.8"
  }
 },
 "nbformat": 4,
 "nbformat_minor": 5
}
